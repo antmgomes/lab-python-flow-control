{
 "cells": [
  {
   "cell_type": "markdown",
   "id": "d3bfc191-8885-42ee-b0a0-bbab867c6f9f",
   "metadata": {
    "tags": []
   },
   "source": [
    "# Lab | Flow Control"
   ]
  },
  {
   "cell_type": "markdown",
   "id": "3851fcd1-cf98-4653-9c89-e003b7ec9400",
   "metadata": {},
   "source": [
    "## Exercise: Managing Customer Orders Optimized\n",
    "\n",
    "In the last lab, you were starting an online store that sells various products. To ensure smooth operations, you developed a program that manages customer orders and inventory.\n",
    "\n",
    "You did so without using flow control. Let's go a step further and improve this code.\n",
    "\n",
    "Follow the steps below to complete the exercise:\n",
    "\n",
    "1. Look at your code from the lab data structures, and improve repeated code with loops.\n",
    "\n",
    "2. Instead of asking the user to input the name of three products that a customer wants to order, do the following:\n",
    "    \n",
    "    a. Prompt the user to enter the name of a product that a customer wants to order.\n",
    "    \n",
    "    b. Add the product name to the \"customer_orders\" set.\n",
    "    \n",
    "    c. Ask the user if they want to add another product (yes/no).\n",
    "    \n",
    "    d. Continue the loop until the user does not want to add another product.\n",
    "\n",
    "3. Instead of updating the inventory by subtracting 1 from the quantity of each product, only do it for  the products that were ordered (those in \"customer_orders\")."
   ]
  },
  {
   "cell_type": "code",
   "execution_count": 2,
   "id": "5fc164c7",
   "metadata": {},
   "outputs": [
    {
     "name": "stdout",
     "output_type": "stream",
     "text": [
      "{'t-shirt': 23, 'mug': 1, 'hat': 2, 'book': 3, 'keychain': 4}\n",
      "Invalid product. Please choose one from the list.\n",
      "set()\n",
      "Order Statistics:\n",
      "Total Products Ordered: 0\n",
      "Percentage of Products Ordered: 0.0\n",
      "('t-shirt', 23)\n",
      "('mug', 1)\n",
      "('hat', 2)\n",
      "('book', 3)\n",
      "('keychain', 4)\n"
     ]
    }
   ],
   "source": [
    "products = [\"t-shirt\", \"mug\", \"hat\", \"book\", \"keychain\"]\n",
    "inventory = {}\n",
    "\n",
    "for product in products:\n",
    "    quantity = int(input(\"Insert Quantity of: \" + product + \"s\"))\n",
    "    inventory[product] = quantity\n",
    "    \n",
    "print(inventory)\n",
    "\n",
    "customer_orders = set()\n",
    "\n",
    "order = input(\"Select a product product out of the products list: \")\n",
    "if order in products:\n",
    "    customer_orders.add(order)\n",
    "        \n",
    "else:\n",
    "    print(\"Invalid product. Please choose one from the list.\")\n",
    "\n",
    "askCustomer = input(\"Do you want to order another product? (yes/no): \").lower()\n",
    "\n",
    "while askCustomer ==  \"yes\":\n",
    "    order = input(\"Select another product out of the products list: \")\n",
    "           \n",
    "    if order in products:\n",
    "        customer_orders.add(order)\n",
    "        askCustomer = input(\"Do you want to order another product? (yes/no): \").lower()\n",
    "        \n",
    "    else:\n",
    "        print(\"Invalid product. Please choose one from the list.\")\n",
    "        askCustomer = input(\"Do you want to order another product? (yes/no): \").lower()\n",
    "                    \n",
    "else:\n",
    "    print(customer_orders)\n",
    "\n",
    "total_products_ordered = len(customer_orders)\n",
    "total_available_prodcuts = len(products)\n",
    "percentage_ordered = (total_products_ordered / total_available_prodcuts) * 100\n",
    "\n",
    "order_status = (total_products_ordered, percentage_ordered)\n",
    "\n",
    "print(\"Order Statistics:\")\n",
    "print(\"Total Products Ordered:\",  total_products_ordered)\n",
    "print(\"Percentage of Products Ordered:\", percentage_ordered)\n",
    "\n",
    "for item in customer_orders:\n",
    "    #inventory.pop(item)\n",
    "    inventory[item] -= 1\n",
    "\n",
    "for items in inventory.items():\n",
    "    print(items)"
   ]
  }
 ],
 "metadata": {
  "kernelspec": {
   "display_name": "base",
   "language": "python",
   "name": "python3"
  },
  "language_info": {
   "codemirror_mode": {
    "name": "ipython",
    "version": 3
   },
   "file_extension": ".py",
   "mimetype": "text/x-python",
   "name": "python",
   "nbconvert_exporter": "python",
   "pygments_lexer": "ipython3",
   "version": "3.13.5"
  }
 },
 "nbformat": 4,
 "nbformat_minor": 5
}
